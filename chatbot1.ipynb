{
 "cells": [
  {
   "cell_type": "code",
   "execution_count": 1,
   "metadata": {},
   "outputs": [
    {
     "name": "stderr",
     "output_type": "stream",
     "text": [
      "/Users/ismaelrobles-razzaq/cs_projects/venv1/lib/python3.11/site-packages/pinecone/data/index.py:1: TqdmWarning: IProgress not found. Please update jupyter and ipywidgets. See https://ipywidgets.readthedocs.io/en/stable/user_install.html\n",
      "  from tqdm.autonotebook import tqdm\n"
     ]
    }
   ],
   "source": [
    "import pinecone\n",
    "from sentence_transformers import SentenceTransformer\n",
    "from groq import Groq\n",
    "from typing import List, Dict\n",
    "import os\n",
    "from dotenv import load_dotenv"
   ]
  },
  {
   "cell_type": "code",
   "execution_count": 37,
   "metadata": {},
   "outputs": [],
   "source": [
    "class RSORagBot:\n",
    "    def __init__(self, pinecone_api_key: str, pinecone_index_name: str, groq_api_key: str):\n",
    "        # Initialize Pinecone\n",
    "        self.pc = pinecone.Pinecone(api_key=pinecone_api_key)\n",
    "        self.index = self.pc.Index(pinecone_index_name)\n",
    "        \n",
    "        # Initialize embedding model\n",
    "        self.embed_model = SentenceTransformer('all-mpnet-base-v2')\n",
    "        \n",
    "        # Initialize Groq client\n",
    "        self.groq_client = Groq(api_key=groq_api_key)\n",
    "        \n",
    "        # Define system prompt\n",
    "        self.system_prompt = \"\"\"You are a knowledgeable and helpful assistant for University of Chicago students, \n",
    "        specializing in Registered Student Organizations (RSOs). Your role is to help students learn about and \n",
    "        engage with RSOs by:\n",
    "\n",
    "        - Providing accurate, detailed information about specific RSOs when asked\n",
    "        - Recommending relevant RSOs based on students' interests and preferences when asked\n",
    "        - Explaining RSO activities, events, and opportunities\n",
    "\n",
    "        Focus on the specific information or guidance the student is seeking.\"\"\"\n",
    "\n",
    "    def get_relevant_rsos(self, query: str, top_k: int = 3) -> List[Dict]:\n",
    "        \"\"\"\n",
    "        Get relevant RSOs based on the query\n",
    "        \"\"\"\n",
    "        # Create query embedding\n",
    "        query_embedding = self.embed_model.encode(query).tolist()\n",
    "        \n",
    "        # Query Pinecone\n",
    "        results = self.index.query(\n",
    "            vector=query_embedding,\n",
    "            top_k=top_k,\n",
    "            include_metadata=True\n",
    "        )\n",
    "        \n",
    "        return results.matches\n",
    "\n",
    "    def format_context(self, relevant_rsos: List[Dict]) -> str:\n",
    "            \"\"\"\n",
    "            Format RSO information into a context string for the LLM\n",
    "            \"\"\"\n",
    "            context = \"Here is the RSO information:\\n\\n\"\n",
    "            \n",
    "            for rso in relevant_rsos:\n",
    "                metadata = rso.metadata\n",
    "                context += f\"Name: {metadata['name']}\\n\"\n",
    "                context += f\"Description: {metadata['description']}\\n\"\n",
    "                context += f\"Categories: {', '.join(metadata['categories'])}\\n\"\n",
    "                \n",
    "                # Only include contact info if it exists and isn't 'None'\n",
    "                if metadata['contact_email'] and metadata['contact_email'].lower() != 'none':\n",
    "                    context += f\"Contact: {metadata['contact_email']}\\n\"\n",
    "                \n",
    "                if metadata['social_media_links']:\n",
    "                    context += f\"Social Media: {', '.join(metadata['social_media_links'])}\\n\"\n",
    "                \n",
    "                if metadata['additional_info']:\n",
    "                    context += f\"Additional Info: {', '.join(metadata['additional_info'])}\\n\"\n",
    "                \n",
    "                context += f\"Website: {metadata['full_url']}\\n\\n\"\n",
    "            \n",
    "            return context\n",
    "\n",
    "    def generate_response(self, query: str) -> str:\n",
    "        \"\"\"\n",
    "        Generate a response based on the query and relevant RSO information\n",
    "        \"\"\"\n",
    "        # Get relevant RSOs\n",
    "\n",
    "        query2 = query.lower().replace('club', 'rso')\n",
    "        print(f\"query1: {query}, query2: {query2}\")\n",
    "\n",
    "        relevant_rsos = self.get_relevant_rsos(query2)\n",
    "        \n",
    "        # Format context\n",
    "        context = self.format_context(relevant_rsos)\n",
    "        \n",
    "        # Construct universal prompt that works for both information and recommendations\n",
    "        prompt = f\"\"\"Here is a student's question about UChicago RSOs: \"{query}\"\n",
    "\n",
    "        Below are the 3 top entries when we queried our RSO database with the query:\n",
    "\n",
    "\n",
    "\n",
    "        {context}\n",
    "\n",
    "        Those are the 3 top entries. If only one RSO seems relevant, only mention that RSO. \n",
    "        If the question is not related to the 3 top entries, ignore the 3 top entries. \n",
    "        Now provide a natural, conversational response that:\n",
    "        1. Directly addresses their specific question or need\n",
    "        2. Includes only relevant details and context from the RSO information\n",
    "        \"\"\"\n",
    "        \n",
    "        # Get response from Groq\n",
    "        response = self.groq_client.chat.completions.create(\n",
    "            messages=[\n",
    "                {\"role\": \"system\", \"content\": self.system_prompt},\n",
    "                {\"role\": \"user\", \"content\": prompt}\n",
    "            ],\n",
    "            model=\"mixtral-8x7b-32768\",\n",
    "            temperature=0.7,\n",
    "            max_tokens=1024\n",
    "        )\n",
    "        \n",
    "        return response.choices[0].message.content"
   ]
  },
  {
   "cell_type": "code",
   "execution_count": 3,
   "metadata": {},
   "outputs": [],
   "source": [
    "load_dotenv()\n",
    "PINECONE_API_KEY = os.getenv(\"PINECONE_API_KEY\")\n",
    "GROQ_API_KEY = os.getenv(\"GROQ_API_KEY\")\n"
   ]
  },
  {
   "cell_type": "code",
   "execution_count": 38,
   "metadata": {},
   "outputs": [],
   "source": [
    "bot = RSORagBot(\n",
    "        pinecone_api_key=os.getenv(\"PINECONE_API_KEY\"),\n",
    "        pinecone_index_name=\"rso-chatbot\",  # replace with your index name\n",
    "        groq_api_key=os.getenv(\"GROQ_API_KEY\")\n",
    "    )\n",
    "    \n",
    "    "
   ]
  },
  {
   "cell_type": "code",
   "execution_count": 46,
   "metadata": {},
   "outputs": [
    {
     "name": "stdout",
     "output_type": "stream",
     "text": [
      "query1: Help me find marketing opportunities for undergrads, query2: help me find marketing opportunities for undergrads\n",
      "It sounds like you're looking for opportunities to get involved in marketing as an undergraduate student. I have a couple of RSOs in mind that might interest you!\n",
      "\n",
      "First, there's Pareto Solutions, a student-run consulting group that focuses on marketing engagements with local clients. As a member, you'll have the chance to develop skills in data analysis, learn business frameworks, conduct primary research, and work on marketing projects that make a positive impact on the community. Pareto's meetings are held on Wednesdays from 8-9 PM in Stuart 101, and you can contact them at uc.paretosolutions@gmail.com or join their listhost at pareto_solutions-request@lists.uchicago.edu.\n",
      "\n",
      "Another RSO to consider is The Mark, which is dedicated to helping brands shine through marketing and advertising consulting. The Mark's meetings take place on Mondays at 6 PM in Harper 104, and you can reach out to them at uchicagothemark@gmail.com or join their listhost at themark@lists.uchicago.edu.\n",
      "\n",
      "Lastly, Women in Business (UCWiB) is an RSO that aims to advance the success of enterprising young women in the corporate world. While their primary focus is not marketing, they do offer mentorship, leadership, and educational initiatives that could help you develop valuable skills for your future career. UCWiB's meetings are on Wednesdays at 6 PM in Stuart 101, and you can contact them at wib.uchicago@gmail.com or join their listhost at uofcwib24-25.\n",
      "\n",
      "I hope this information helps you find the right marketing opportunities for your undergraduate experience! Let me know if you have any other questions.\n"
     ]
    }
   ],
   "source": [
    "# Example query\n",
    "\n",
    "query = \"Help me find marketing opportunities for undergrads\"\n",
    "response = bot.generate_response(query)\n",
    "print(response)"
   ]
  },
  {
   "cell_type": "code",
   "execution_count": 33,
   "metadata": {},
   "outputs": [
    {
     "name": "stdout",
     "output_type": "stream",
     "text": [
      "Here is the RSO information:\n",
      "\n",
      "Name: Maroon Capital\n",
      "Description: Maroon Capital is UChicago’s oldest and largest quantitative finance RSO with an aim to provide education, career and networking resources, and talent development for our members. Since 2010, we've established and expanded our own industry-relevant curriculum covering topics in quantitative and fundamental finance, statistics, market making, and coding. If you're a prospective member, please visit our website (mc.uchicago.edu) for more information / questions.\n",
      "Categories: Quantitative Trading, Academic Interest, Finance, Investment\n",
      "Contact: jsagrolikar@uchicago.edu\n",
      "Social Media: http://mc.uchicago.edu/, https://www.facebook.com/marooncapital\n",
      "Additional Info: RSO Advisor: Peer Advisors, Advising Model Categorization:: Orange Group, Year Created:: 2013, Regular Meetings (Day/Time/Location):: Changes quarterly, RSO Listhost:: themarooncapital@lists.uchicago.edu, This organization is affiliated with a parent/national/international organization.: No Response, Parent Organization Name and Website:: No Response\n",
      "Website: https://blueprint.uchicago.edu/organization/mc\n",
      "\n",
      "Name: Derivatives Group\n",
      "Description: Derivatives Group (Quant) Trading is dedicated to educating its members on the financial markets, with a focus on financial derivatives, in order to prepare them for academic research and careers in industry. By providing historical context and a rigorous, theory-focused learning program through curriculum and mentorship, our organization will enable its members to produce research on a financial derivatives related topic as a part of the RSO.\n",
      "Categories: Quantitative Trading, Academic Interest, Finance\n",
      "Contact: derivativesgroupboard@gmail.com\n",
      "Social Media: https://dgqt.rso.uchicago.edu/, https://www.instagram.com/uchicagodgqt/, https://www.facebook.com/derivativesgroup/\n",
      "Additional Info: RSO Advisor: Peer Advisors, Advising Model Categorization:: Orange Group, Year Created:: No Response, Regular Meetings (Day/Time/Location):: Wednesdays at 6:30pm in Stuart 105, RSO Listhost:: derivativesgroup@lists.uchicago.edu, This organization is affiliated with a parent/national/international organization.: No Response, Parent Organization Name and Website:: No Response\n",
      "Website: https://blueprint.uchicago.edu/organization/derivativesgroup\n",
      "\n",
      "Name: Engineering Society\n",
      "Description: We are an Engineering RSO that has been operating since 2010. The Engineering Society serves the UChicago community regardless of academic year or major providing large-scale Engineering project opportunities, free Engineering workshops, social events, and professional development events.\n",
      "Categories: Engineering, Academic Interest\n",
      "Contact: engineering_society@uchicago.edu\n",
      "Social Media: https://www.facebook.com/EngineeringSocietyUChicago/, https://instagram.com/es_uchicago?igshid=ZDdkNTZiNTM=\n",
      "Additional Info: RSO Advisor: Peer Advisors, Advising Model Categorization:: Orange Group, Year Created:: 2010, Regular Meetings (Day/Time/Location):: Meetings are Irregular - Stay up to date with the Engineering Society Email list, facebook or instagram for upcoming events., RSO Listhost:: engineeringsociety@lists.uchicago.edu, This organization is affiliated with a parent/national/international organization.: No Response, Parent Organization Name and Website:: N/A\n",
      "Website: https://blueprint.uchicago.edu/organization/es\n",
      "\n",
      "\n"
     ]
    }
   ],
   "source": [
    "bot2 = RSORagBot(\n",
    "        pinecone_api_key=os.getenv(\"PINECONE_API_KEY\"),\n",
    "        pinecone_index_name=\"rso-chatbot\",  # replace with your index name\n",
    "        groq_api_key=os.getenv(\"GROQ_API_KEY\")\n",
    "    )\n",
    "    \n",
    "\n",
    "query = \"Help me find quantitative finance RSOs\"\n",
    "\n",
    "relevant_rsos = bot.get_relevant_rsos(query)\n",
    "        \n",
    "        # Format context\n",
    "context = bot.format_context(relevant_rsos)\n",
    "print(context)"
   ]
  },
  {
   "cell_type": "code",
   "execution_count": null,
   "metadata": {},
   "outputs": [],
   "source": []
  }
 ],
 "metadata": {
  "kernelspec": {
   "display_name": "venv1",
   "language": "python",
   "name": "python3"
  },
  "language_info": {
   "codemirror_mode": {
    "name": "ipython",
    "version": 3
   },
   "file_extension": ".py",
   "mimetype": "text/x-python",
   "name": "python",
   "nbconvert_exporter": "python",
   "pygments_lexer": "ipython3",
   "version": "3.11.6"
  }
 },
 "nbformat": 4,
 "nbformat_minor": 2
}
