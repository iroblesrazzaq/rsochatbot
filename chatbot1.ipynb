{
 "cells": [
  {
   "cell_type": "code",
   "execution_count": 2,
   "metadata": {},
   "outputs": [],
   "source": [
    "import pinecone\n",
    "from sentence_transformers import SentenceTransformer\n",
    "from groq import Groq\n",
    "from typing import List, Dict\n",
    "import os\n",
    "from dotenv import load_dotenv"
   ]
  },
  {
   "cell_type": "code",
   "execution_count": 10,
   "metadata": {},
   "outputs": [],
   "source": [
    "class RSORagBot:\n",
    "    def __init__(self, pinecone_api_key: str, pinecone_index_name: str, groq_api_key: str):\n",
    "        # Initialize Pinecone\n",
    "        self.pc = pinecone.Pinecone(api_key=pinecone_api_key)\n",
    "        self.index = self.pc.Index(pinecone_index_name)\n",
    "        \n",
    "        # Initialize embedding model\n",
    "        self.embed_model = SentenceTransformer('all-mpnet-base-v2')\n",
    "        \n",
    "        # Initialize Groq client\n",
    "        self.groq_client = Groq(api_key=groq_api_key)\n",
    "        \n",
    "        # Define system prompt\n",
    "        self.system_prompt = \"\"\"You are a helpful assistant for University of Chicago students, \n",
    "        helping them find Registered Student Organizations (RSOs) that match their interests. \n",
    "        Use the provided RSO information to give detailed, relevant recommendations. \n",
    "        Always include the RSO's name, a brief description, and contact information when available.\"\"\"\n",
    "\n",
    "    def get_relevant_rsos(self, query: str, top_k: int = 5) -> List[Dict]:\n",
    "        \"\"\"\n",
    "        Get relevant RSOs based on the query\n",
    "        \"\"\"\n",
    "        # Create query embedding\n",
    "        query_embedding = self.embed_model.encode(query).tolist()\n",
    "        \n",
    "        # Query Pinecone\n",
    "        results = self.index.query(\n",
    "            vector=query_embedding,\n",
    "            top_k=top_k,\n",
    "            include_metadata=True\n",
    "        )\n",
    "        \n",
    "        return results.matches\n",
    "\n",
    "    def format_context(self, relevant_rsos: List[Dict]) -> str:\n",
    "        \"\"\"\n",
    "        Format RSO information into a context string for the LLM\n",
    "        \"\"\"\n",
    "        context = \"Here are some relevant RSOs:\\n\\n\"\n",
    "        \n",
    "        for rso in relevant_rsos:\n",
    "            metadata = rso.metadata\n",
    "            context += f\"Name: {metadata['name']}\\n\"\n",
    "            context += f\"Description: {metadata['description']}\\n\"\n",
    "            context += f\"Categories: {', '.join(metadata['categories'])}\\n\"\n",
    "            context += f\"Contact: {metadata['contact_email']}\\n\"\n",
    "            if metadata['social_media_links']:\n",
    "                context += f\"Social Media: {', '.join(metadata['social_media_links'])}\\n\"\n",
    "            if metadata['additional_info']:\n",
    "                context += f\"Additional Info: {', '.join(metadata['additional_info'])}\\n\"\n",
    "            context += f\"Website: {metadata['full_url']}\\n\\n\"\n",
    "        \n",
    "        return context\n",
    "\n",
    "    def generate_response(self, query: str) -> str:\n",
    "        \"\"\"\n",
    "        Generate a response to the user's query\n",
    "        \"\"\"\n",
    "        # Get relevant RSOs\n",
    "        relevant_rsos = self.get_relevant_rsos(query)\n",
    "        \n",
    "        # Format context\n",
    "        context = self.format_context(relevant_rsos)\n",
    "        \n",
    "        # Construct the prompt\n",
    "        prompt = f\"\"\"Based on the following RSO information, please recommend appropriate RSOs for a student with this query: \"{query}\"\n",
    "\n",
    "        {context}\n",
    "\n",
    "        Please provide a natural, conversational response that:\n",
    "        1. Highlights the most relevant RSOs for their interests\n",
    "        2. Explains why each RSO might be a good fit\n",
    "        3. Includes practical information like how to get involved\n",
    "        \"\"\"\n",
    "        \n",
    "        # Get response from Groq\n",
    "        response = self.groq_client.chat.completions.create(\n",
    "            messages=[\n",
    "                {\"role\": \"system\", \"content\": self.system_prompt},\n",
    "                {\"role\": \"user\", \"content\": prompt}\n",
    "            ],\n",
    "            model=\"mixtral-8x7b-32768\",  # or your preferred Groq model\n",
    "            temperature=0.7,\n",
    "            max_tokens=1024\n",
    "        )\n",
    "        \n",
    "        return response.choices[0].message.content"
   ]
  },
  {
   "cell_type": "code",
   "execution_count": 6,
   "metadata": {},
   "outputs": [],
   "source": [
    "load_dotenv()\n",
    "PINECONE_API_KEY = os.getenv(\"PINECONE_API_KEY\")\n",
    "GROQ_API_KEY = os.getenv(\"GROQ_API_KEY\")\n"
   ]
  },
  {
   "cell_type": "code",
   "execution_count": 12,
   "metadata": {},
   "outputs": [],
   "source": [
    "bot = RSORagBot(\n",
    "        pinecone_api_key=os.getenv(\"PINECONE_API_KEY\"),\n",
    "        pinecone_index_name=\"rso-chatbot\",  # replace with your index name\n",
    "        groq_api_key=os.getenv(\"GROQ_API_KEY\")\n",
    "    )\n",
    "    \n",
    "    "
   ]
  },
  {
   "cell_type": "code",
   "execution_count": 13,
   "metadata": {},
   "outputs": [
    {
     "name": "stderr",
     "output_type": "stream",
     "text": [
      "huggingface/tokenizers: The current process just got forked, after parallelism has already been used. Disabling parallelism to avoid deadlocks...\n",
      "To disable this warning, you can either:\n",
      "\t- Avoid using `tokenizers` before the fork if possible\n",
      "\t- Explicitly set the environment variable TOKENIZERS_PARALLELISM=(true | false)\n"
     ]
    },
    {
     "name": "stdout",
     "output_type": "stream",
     "text": [
      "Sure, I'd be happy to help you find some RSOs that match your interests in machine learning and artificial intelligence! Here are a few that I think you might find interesting:\n",
      "\n",
      "1. **AI @ UChicago**: This RSO is specifically focused on artificial intelligence and offers a range of educational opportunities, hands-on projects, and community-building activities related to AI. They cover topics such as AI ethics, applications, and technologies, which sounds like it would be right up your alley. You can get involved by joining their mailing list or reaching out to their contact, Arjun Sohur, at [arjunsohur@uchicago.edu](mailto:arjunsohur@uchicago.edu). You can also check out their website at <https://ai-uchicago.com/> or follow them on social media.\n",
      "2. **UChicago ACM**: While this RSO is not exclusively focused on AI or machine learning, they do have committees dedicated to these topics. UChicago ACM is the University of Chicago’s student chapter of the Association for Computing Machinery (ACM), and they offer hands-on experience outside of the classroom through their machine learning and software engineering committees. They also hold general meetings that give students the opportunity to connect and learn from professionals in various industries of computer science. You can get involved by joining their mailing list or following them on social media.\n",
      "3. **UChicago Data Science Society**: This RSO is focused on data science, which often involves machine learning and AI. They provide an alternative space for people to learn and discuss data science, as well as connect with each other. They also offer hands-on learning experiences through selective project opportunities, which can help you gain practical experience and enhance your skills. You can get involved by reaching out to their contact, Rain Liu, at [rainliu@uchicago.edu](mailto:rainliu@uchicago.edu) or following them on social media.\n",
      "\n",
      "I hope this helps! Let me know if you have any other questions or if there's anything else I can help you with.\n"
     ]
    }
   ],
   "source": [
    "# Example query\n",
    "query = \"I'm interested in machine learning and artificial intelligence clubs\"\n",
    "response = bot.generate_response(query)\n",
    "print(response)"
   ]
  }
 ],
 "metadata": {
  "kernelspec": {
   "display_name": "venv1",
   "language": "python",
   "name": "python3"
  },
  "language_info": {
   "codemirror_mode": {
    "name": "ipython",
    "version": 3
   },
   "file_extension": ".py",
   "mimetype": "text/x-python",
   "name": "python",
   "nbconvert_exporter": "python",
   "pygments_lexer": "ipython3",
   "version": "3.11.6"
  }
 },
 "nbformat": 4,
 "nbformat_minor": 2
}
