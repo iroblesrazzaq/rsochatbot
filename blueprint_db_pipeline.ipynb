{
 "cells": [
  {
   "cell_type": "markdown",
   "metadata": {},
   "source": [
    "What I need:\n",
    "\n",
    "Which information to put into db?\n",
    "\n",
    "Data engineering to make it better:\n",
    "\n",
    "-labels?\n",
    "    - have to create\n",
    "    -types of rsos:\n",
    "        \n",
    "        \n",
    "        -finance\n",
    "\n",
    "        - investing\n",
    "        - private equity\n",
    "        \n",
    "\n",
    "        -marketing\n",
    "\n",
    "        -tech\n",
    "\n",
    "        -science?\n",
    "\n",
    "            -bio\n",
    "            -chem\n",
    "            -physics\n",
    "            -engineering?\n",
    "        -sport\n",
    "\n",
    "        -humanities\n",
    "\n",
    "        -art?\n",
    "\n"
   ]
  },
  {
   "cell_type": "markdown",
   "metadata": {},
   "source": [
    "todo:\n",
    "-db\n",
    "-chatbot\n",
    "-data engineering (labelling, other stuff?)"
   ]
  }
 ],
 "metadata": {
  "kernelspec": {
   "display_name": "venv1",
   "language": "python",
   "name": "python3"
  },
  "language_info": {
   "name": "python",
   "version": "3.11.6"
  }
 },
 "nbformat": 4,
 "nbformat_minor": 2
}
