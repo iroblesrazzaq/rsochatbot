{
 "cells": [
  {
   "cell_type": "markdown",
   "metadata": {},
   "source": [
    "What I need:\n",
    "\n",
    "Which information to put into db?\n",
    "\n",
    "Data engineering to make it better:\n",
    "\n",
    "-labels?\n",
    "    - have to create\n",
    "    -types of rsos:\n",
    "        \n",
    "        \n",
    "        -finance\n",
    "\n",
    "        - investing\n",
    "        - private equity\n",
    "        \n",
    "\n",
    "        -marketing\n",
    "\n",
    "        -tech\n",
    "\n",
    "        -science?\n",
    "\n",
    "            -bio\n",
    "            -chem\n",
    "            -physics\n",
    "            -engineering?\n",
    "        -sport\n",
    "\n",
    "        -humanities\n",
    "\n",
    "        -art?\n",
    "\n"
   ]
  },
  {
   "cell_type": "markdown",
   "metadata": {},
   "source": [
    "todo:\n",
    "-db\n",
    "-chatbot\n",
    "-data engineering (labelling, other stuff?)"
   ]
  },
  {
   "cell_type": "code",
   "execution_count": 1,
   "metadata": {},
   "outputs": [],
   "source": [
    "import json\n",
    "from typing import Dict, Any"
   ]
  },
  {
   "cell_type": "code",
   "execution_count": 2,
   "metadata": {},
   "outputs": [],
   "source": [
    "def transform_rso_data(rso_data: Dict[str, Any]) -> Dict[str, Any]:\n",
    "    \"\"\"\n",
    "    Transform RSO data for Pinecone database.\n",
    "    \n",
    "    Args:\n",
    "        rso_data (Dict[str, Any]): Original RSO data dictionary\n",
    "        \n",
    "    Returns:\n",
    "        Dict[str, Any]: Transformed data ready for Pinecone\n",
    "    \"\"\"\n",
    "    # Extract high confidence AI categories\n",
    "    high_confidence_categories = [\n",
    "        cat[\"name\"] \n",
    "        for cat in rso_data[\"ai_categories\"] \n",
    "        if cat[\"confidence\"] >= 85\n",
    "    ]\n",
    "    \n",
    "    # Combine with original categories, remove duplicates\n",
    "    all_categories = list(set(rso_data[\"categories\"] + high_confidence_categories))\n",
    "    \n",
    "    # Use full_description if available, otherwise fall back to description_preview\n",
    "    description = (\n",
    "        rso_data[\"full_description\"]\n",
    "        if rso_data.get(\"full_description\")\n",
    "        else rso_data.get(\"description_preview\", \"\")\n",
    "    )\n",
    "    \n",
    "    # Create transformed dictionary with only desired fields\n",
    "    transformed_data = {\n",
    "        \"name\": rso_data[\"name\"],\n",
    "        \"full_url\": rso_data[\"full_url\"],\n",
    "        \"description\": description,  # Renamed field to be more generic\n",
    "        \"categories\": all_categories,\n",
    "        \"contact\": {\"email\": rso_data[\"contact\"][\"email\"]},\n",
    "        \"additional_info\": rso_data[\"additional_info\"],\n",
    "        \"social_media\": rso_data[\"social_media\"]\n",
    "    }\n",
    "    \n",
    "    return transformed_data"
   ]
  },
  {
   "cell_type": "code",
   "execution_count": 3,
   "metadata": {},
   "outputs": [],
   "source": [
    "def process_file(input_path: str, output_path: str):\n",
    "    \"\"\"\n",
    "    Process an entire JSON file containing RSO data.\n",
    "    \n",
    "    Args:\n",
    "        input_path (str): Path to input JSON file\n",
    "        output_path (str): Path to write transformed JSON file\n",
    "    \"\"\"\n",
    "    try:\n",
    "        # Read input file\n",
    "        with open(input_path, 'r', encoding='utf-8') as f:\n",
    "            data = json.load(f)\n",
    "        \n",
    "        # Handle both single object and list of objects\n",
    "        if isinstance(data, list):\n",
    "            transformed_data = [transform_rso_data(item) for item in data]\n",
    "        else:\n",
    "            transformed_data = transform_rso_data(data)\n",
    "        \n",
    "        # Write transformed data to output file\n",
    "        with open(output_path, 'w', encoding='utf-8') as f:\n",
    "            json.dump(transformed_data, f, indent=2, ensure_ascii=False)\n",
    "            \n",
    "        print(f\"Successfully transformed data and saved to {output_path}\")\n",
    "        \n",
    "    except FileNotFoundError:\n",
    "        print(f\"Error: Could not find input file {input_path}\")\n",
    "    except json.JSONDecodeError:\n",
    "        print(f\"Error: Invalid JSON in input file {input_path}\")\n",
    "    except Exception as e:\n",
    "        print(f\"Error: An unexpected error occurred: {str(e)}\")"
   ]
  },
  {
   "cell_type": "code",
   "execution_count": null,
   "metadata": {},
   "outputs": [],
   "source": [
    "\n",
    "\n",
    "input_file = \"rso_data.json\"\n",
    "output_file = \"transformed_rso_data.json\"\n",
    "process_file(input_file, output_file)"
   ]
  }
 ],
 "metadata": {
  "kernelspec": {
   "display_name": "venv1",
   "language": "python",
   "name": "python3"
  },
  "language_info": {
   "codemirror_mode": {
    "name": "ipython",
    "version": 3
   },
   "file_extension": ".py",
   "mimetype": "text/x-python",
   "name": "python",
   "nbconvert_exporter": "python",
   "pygments_lexer": "ipython3",
   "version": "3.11.6"
  }
 },
 "nbformat": 4,
 "nbformat_minor": 2
}
