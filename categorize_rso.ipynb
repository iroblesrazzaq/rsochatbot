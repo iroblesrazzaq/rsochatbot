{
 "cells": [
  {
   "cell_type": "markdown",
   "metadata": {},
   "source": [
    "Notebook to add better categories to RSO data"
   ]
  },
  {
   "cell_type": "code",
   "execution_count": 13,
   "metadata": {},
   "outputs": [],
   "source": [
    "import json\n",
    "import asyncio\n",
    "from groq import Groq\n",
    "import os\n",
    "from typing import Dict, List, Optional\n",
    "import time\n",
    "from tqdm import tqdm\n",
    "from dotenv import load_dotenv\n",
    "from datetime import datetime, timedelta\n",
    "import tiktoken\n",
    "import random\n"
   ]
  },
  {
   "cell_type": "code",
   "execution_count": 14,
   "metadata": {},
   "outputs": [],
   "source": [
    "load_dotenv()  # This loads the variables from .env\n",
    "\n",
    "client = Groq(\n",
    "    api_key=os.environ[\"GROQ_API_KEY\"],\n",
    ")\n",
    "token_bucket = TokenBucket(tokens_per_minute=4500)  # Using 4500 to be conservative\n"
   ]
  },
  {
   "cell_type": "code",
   "execution_count": 12,
   "metadata": {},
   "outputs": [],
   "source": [
    "class TokenBucket:\n",
    "    def __init__(self, tokens_per_minute: int = 5000):\n",
    "        self.max_tokens = tokens_per_minute\n",
    "        self.tokens = tokens_per_minute\n",
    "        self.last_update = datetime.now()\n",
    "        self.tokens_per_minute = tokens_per_minute\n",
    "\n",
    "    def update_tokens(self):\n",
    "        now = datetime.now()\n",
    "        time_passed = now - self.last_update\n",
    "        self.tokens = min(\n",
    "            self.max_tokens,\n",
    "            self.tokens + (time_passed.total_seconds() * self.tokens_per_minute / 60)\n",
    "        )\n",
    "        self.last_update = now\n",
    "\n",
    "    def consume(self, tokens: int) -> float:\n",
    "        self.update_tokens()\n",
    "        if self.tokens < tokens:\n",
    "            wait_time = (tokens - self.tokens) * 60 / self.tokens_per_minute\n",
    "            return wait_time\n",
    "        self.tokens -= tokens\n",
    "        return 0"
   ]
  },
  {
   "cell_type": "code",
   "execution_count": 15,
   "metadata": {},
   "outputs": [],
   "source": [
    "def count_tokens(text: str) -> int:\n",
    "    \"\"\"Estimate token count using tiktoken\"\"\"\n",
    "    # Using cl100k_base as an approximation\n",
    "    encoding = tiktoken.get_encoding(\"cl100k_base\")\n",
    "    return len(encoding.encode(text))\n",
    "\n",
    "def exponential_backoff(attempt: int, base_delay: float = 1) -> float:\n",
    "    \"\"\"Calculate delay with jitter for exponential backoff\"\"\"\n",
    "    delay = min(300, base_delay * (2 ** attempt))  # Cap at 5 minutes\n",
    "    jitter = random.uniform(0, 0.1 * delay)\n",
    "    return delay + jitter"
   ]
  },
  {
   "cell_type": "code",
   "execution_count": 19,
   "metadata": {},
   "outputs": [],
   "source": [
    "VALID_CATEGORIES = [\n",
    "    \"Biology\", \"Business\", \"Chemistry\", \"Physics\", \"Mathematics\", \"Computer Science\", \n",
    "    \"Data Science\", \"Economics\", \"Psychology\", \"Sociology\", \"Political Science\",\n",
    "    \"History\", \"Philosophy\", \"Literature\", \"Languages\", \"Law\", \"Medicine\",\n",
    "    \"Nursing\", \"Public Health\", \"Engineering\", \"Environmental Science\",\n",
    "    \"Finance\", \"Investment\", \"Quantitative Trading\", \"Private Equity\",\n",
    "    \"Venture Capital\", \"Consulting\", \"Marketing\", \"Entrepreneurship\",\n",
    "    \"Real Estate\", \"Technology\", \"Software Development\", \"Product Management\",\n",
    "    \"Healthcare\", \"Legal\", \"Research\", \"Journalism\", \"Media Production\",\n",
    "    \"Visual Arts\", \"Painting\", \"Photography\", \"Digital Art\", \"Music\",\n",
    "    \"Band\", \"Choir\", \"A Cappella\", \"Theater\", \"Dance\", \"Film\",\n",
    "    \"Creative Writing\", \"Design\", \"Cultural\", \"International\", \"Religious\",\n",
    "    \"LGBTQ+\", \"Gender & Sexuality\", \"Social Justice\", \"Political\", \"Activism\",\n",
    "    \"Community Service/volunteering\", \"Mentorship\", \"Environmental\", \"Sports\"\n",
    "    \"Team Sports\", \"Individual Sports\", \"Gaming\",\n",
    "    \"Debate\", \"Model UN\", \"Food & Cooking\", \"Travel\", \"Outdoor Activities\",\n",
    "    \"Student Government\", \"Publications\", \"Journalism\", \"Mental Health\", \"Wellness\",\n",
    "    \"Career Development\", \"Academic Support\", \"Leadership\", \"Greek Life\"\n",
    "]"
   ]
  },
  {
   "cell_type": "code",
   "execution_count": 6,
   "metadata": {},
   "outputs": [],
   "source": [
    "FEW_SHOT_EXAMPLES = [\n",
    "    {\n",
    "        \"name\": \"Investment Banking Group\",\n",
    "        \"description\": \"A professional organization dedicated to educating members about investment banking, private equity, and financial markets. We host networking events, technical workshops, and mock interviews to prepare students for careers in finance.\",\n",
    "        \"ideal_categories\": [\"Finance\", \"Investment\", \"Career Development\"],\n",
    "        \"explanation\": \"This RSO focuses on finance education and career preparation, warranting multiple related financial categories.\"\n",
    "    },\n",
    "    {\n",
    "        \"name\": \"Data Science for Social Good\",\n",
    "        \"description\": \"We apply data science and machine learning techniques to tackle social issues in healthcare, education, and environmental sustainability. Members work on real-world projects while learning technical skills.\",\n",
    "        \"ideal_categories\": [\"Data Science\", \"Computer Science\", \"Community Service/volunteering\"],\n",
    "        \"explanation\": \"Combines technical data science work with social impact, deserving both technical and service categories.\"\n",
    "    },\n",
    "    {\n",
    "        \"name\": \"Mental Health Alliance\",\n",
    "        \"description\": \"A student organization focused on promoting mental health awareness, reducing stigma, and connecting students with resources. We organize wellness workshops, peer support groups, and educational events.\",\n",
    "        \"ideal_categories\": [\"Mental Health\", \"Wellness\", \"Student Life\"],\n",
    "        \"explanation\": \"Focuses on mental health and wellness within student life context.\"\n",
    "    }\n",
    "]"
   ]
  },
  {
   "cell_type": "code",
   "execution_count": 7,
   "metadata": {},
   "outputs": [],
   "source": [
    "def create_prompt(rso: Dict) -> str:\n",
    "    \"\"\"Create a prompt for the LLM to categorize an RSO.\"\"\"\n",
    "    few_shot_text = \"\\n---\\n\".join([\n",
    "        f\"\"\"\n",
    "Name: {ex['name']}\n",
    "Description: {ex['description']}\n",
    "Categories: {', '.join(ex['ideal_categories'])}\n",
    "Explanation: {ex['explanation']}\"\"\" \n",
    "        for ex in FEW_SHOT_EXAMPLES\n",
    "    ])\n",
    "    \n",
    "    prompt = f\"\"\"You are an expert at categorizing university student organizations. Given an RSO's name and description, assign it relevant categories from the provided list. Each RSO can have multiple categories if appropriate.\n",
    "\n",
    "Valid categories: {', '.join(VALID_CATEGORIES)}\n",
    "\n",
    "Here are some examples:\n",
    "{few_shot_text}\n",
    "\n",
    "For the following RSO, please provide:\n",
    "1. A list of relevant categories (can be multiple)\n",
    "2. A confidence score (0-100) for each category\n",
    "3. A brief explanation of your categorization\n",
    "\n",
    "Name: {rso['name']}\n",
    "Description: {rso.get('full_description', '') or rso.get('description_preview', '')}\n",
    "\n",
    "Response should be in JSON format:\n",
    "{{\n",
    "  \"categories\": [\n",
    "    {{\"name\": \"category_name\", \"confidence\": 95}},\n",
    "    {{\"name\": \"another_category\", \"confidence\": 85}}\n",
    "  ],\n",
    "  \"explanation\": \"Brief explanation of categorization\"\n",
    "}}\"\"\"\n",
    "    return prompt"
   ]
  },
  {
   "cell_type": "code",
   "execution_count": 16,
   "metadata": {},
   "outputs": [],
   "source": [
    "def categorize_rso(rso: Dict, attempt: int = 0) -> Optional[Dict]:\n",
    "    \"\"\"Categorize a single RSO using the Groq API with rate limiting.\"\"\"\n",
    "    try:\n",
    "        prompt = create_prompt(rso)\n",
    "        estimated_tokens = count_tokens(prompt) + 500  # Add buffer for response\n",
    "        \n",
    "        # Check token bucket\n",
    "        wait_time = token_bucket.consume(estimated_tokens)\n",
    "        if wait_time > 0:\n",
    "            print(f\"\\nRate limit approaching, waiting {wait_time:.2f} seconds...\")\n",
    "            time.sleep(wait_time)\n",
    "        \n",
    "        completion = client.chat.completions.create(\n",
    "            messages=[{\"role\": \"user\", \"content\": prompt}],\n",
    "            model=\"mixtral-8x7b-32768\",\n",
    "            temperature=0.3,\n",
    "            max_tokens=1000\n",
    "        )\n",
    "        \n",
    "        response = json.loads(completion.choices[0].message.content)\n",
    "        \n",
    "        # Validate categories against our list\n",
    "        response['categories'] = [\n",
    "            cat for cat in response['categories'] \n",
    "            if cat['name'] in VALID_CATEGORIES\n",
    "        ]\n",
    "        \n",
    "        return response\n",
    "        \n",
    "    except Exception as e:\n",
    "        if \"rate_limit\" in str(e).lower():\n",
    "            if attempt < 5:  # Max 5 retries\n",
    "                delay = exponential_backoff(attempt)\n",
    "                print(f\"\\nRate limit hit for {rso['name']}, waiting {delay:.2f} seconds...\")\n",
    "                time.sleep(delay)\n",
    "                return categorize_rso(rso, attempt + 1)\n",
    "            else:\n",
    "                print(f\"\\nMax retries reached for {rso['name']}\")\n",
    "        print(f\"Error categorizing RSO {rso['name']}: {str(e)}\")\n",
    "        return None"
   ]
  },
  {
   "cell_type": "code",
   "execution_count": 17,
   "metadata": {},
   "outputs": [],
   "source": [
    "def process_rsos(input_file: str = None, output_file: str = None, rsos: List[Dict] = None):\n",
    "    \"\"\"Process all RSOs from input file or list and save results to output file.\"\"\"\n",
    "    try:\n",
    "        # Read input JSON if file provided, otherwise use provided list\n",
    "        if input_file:\n",
    "            with open(input_file, 'r') as f:\n",
    "                rsos = json.load(f)\n",
    "        \n",
    "        if not rsos:\n",
    "            raise ValueError(\"No RSOs provided\")\n",
    "            \n",
    "        results = []\n",
    "        batch_size = 3  # Reduced batch size\n",
    "        \n",
    "        # Process RSOs in batches with progress bar\n",
    "        for i in tqdm(range(0, len(rsos), batch_size)):\n",
    "            batch = rsos[i:i + batch_size]\n",
    "            batch_results = []\n",
    "            \n",
    "            # Process each RSO in batch\n",
    "            for rso in batch:\n",
    "                categorization = categorize_rso(rso)\n",
    "                if categorization:\n",
    "                    rso['ai_categories'] = categorization['categories']\n",
    "                    rso['categorization_explanation'] = categorization['explanation']\n",
    "                batch_results.append(rso)\n",
    "            \n",
    "            results.extend(batch_results)\n",
    "            \n",
    "            # Save intermediate results every batch\n",
    "            if output_file:\n",
    "                with open(f\"{output_file}.partial\", 'w') as f:\n",
    "                    json.dump(results, f, indent=2)\n",
    "            \n",
    "            # Add delay between batches\n",
    "            time.sleep(2)  # Conservative delay between batches\n",
    "        \n",
    "        # Write final results to output file if provided\n",
    "        if output_file:\n",
    "            with open(output_file, 'w') as f:\n",
    "                json.dump(results, f, indent=2)\n",
    "            print(f'\\nCategorization complete! Results saved to {output_file}')\n",
    "            \n",
    "        return results\n",
    "        \n",
    "    except Exception as e:\n",
    "        print(f'\\nError processing RSOs: {str(e)}')\n",
    "        # Save partial results if available\n",
    "        if results and output_file:\n",
    "            with open(f\"{output_file}.error_partial\", 'w') as f:\n",
    "                json.dump(results, f, indent=2)\n",
    "            print(f'Partial results saved to {output_file}.error_partial')\n",
    "        return results"
   ]
  },
  {
   "cell_type": "code",
   "execution_count": 18,
   "metadata": {},
   "outputs": [
    {
     "name": "stderr",
     "output_type": "stream",
     "text": [
      "  1%|          | 1/136 [00:03<07:58,  3.55s/it]"
     ]
    },
    {
     "name": "stdout",
     "output_type": "stream",
     "text": [
      "\n",
      "Rate limit approaching, waiting 0.72 seconds...\n",
      "\n",
      "Rate limit approaching, waiting 10.49 seconds...\n"
     ]
    },
    {
     "name": "stderr",
     "output_type": "stream",
     "text": [
      "  1%|▏         | 2/136 [00:18<22:40, 10.15s/it]"
     ]
    },
    {
     "name": "stdout",
     "output_type": "stream",
     "text": [
      "\n",
      "Rate limit approaching, waiting 11.77 seconds...\n",
      "\n",
      "Rate limit approaching, waiting 2.90 seconds...\n"
     ]
    },
    {
     "name": "stderr",
     "output_type": "stream",
     "text": [
      "  2%|▏         | 3/136 [00:44<38:51, 17.53s/it]"
     ]
    },
    {
     "name": "stdout",
     "output_type": "stream",
     "text": [
      "\n",
      "Rate limit hit for American Lung Cancer Screening Initiative, waiting 1.07 seconds...\n",
      "\n",
      "Rate limit approaching, waiting 1.47 seconds...\n"
     ]
    },
    {
     "name": "stderr",
     "output_type": "stream",
     "text": [
      "  3%|▎         | 4/136 [01:29<1:02:28, 28.40s/it]"
     ]
    },
    {
     "name": "stdout",
     "output_type": "stream",
     "text": [
      "\n",
      "Rate limit approaching, waiting 5.96 seconds...\n"
     ]
    },
    {
     "name": "stderr",
     "output_type": "stream",
     "text": [
      "  4%|▎         | 5/136 [01:57<1:01:29, 28.16s/it]"
     ]
    },
    {
     "name": "stdout",
     "output_type": "stream",
     "text": [
      "\n",
      "Rate limit approaching, waiting 0.56 seconds...\n",
      "\n",
      "Rate limit hit for Apsara, waiting 1.09 seconds...\n",
      "\n",
      "Rate limit approaching, waiting 8.01 seconds...\n"
     ]
    },
    {
     "name": "stderr",
     "output_type": "stream",
     "text": [
      "  4%|▍         | 6/136 [02:37<1:09:46, 32.20s/it]"
     ]
    },
    {
     "name": "stdout",
     "output_type": "stream",
     "text": [
      "\n",
      "Rate limit approaching, waiting 5.38 seconds...\n"
     ]
    },
    {
     "name": "stderr",
     "output_type": "stream",
     "text": [
      "  5%|▌         | 7/136 [03:05<1:06:19, 30.85s/it]"
     ]
    },
    {
     "name": "stdout",
     "output_type": "stream",
     "text": [
      "\n",
      "Rate limit hit for ArtShould, waiting 1.08 seconds...\n",
      "\n",
      "Rate limit approaching, waiting 1.74 seconds...\n",
      "\n",
      "Rate limit approaching, waiting 5.22 seconds...\n"
     ]
    },
    {
     "name": "stderr",
     "output_type": "stream",
     "text": [
      "  6%|▌         | 8/136 [03:48<1:14:19, 34.84s/it]"
     ]
    },
    {
     "name": "stdout",
     "output_type": "stream",
     "text": [
      "\n",
      "Rate limit hit for Badminton, waiting 1.06 seconds...\n",
      "\n",
      "Rate limit approaching, waiting 1.96 seconds...\n"
     ]
    },
    {
     "name": "stderr",
     "output_type": "stream",
     "text": [
      "  7%|▋         | 9/136 [04:28<1:16:39, 36.22s/it]"
     ]
    },
    {
     "name": "stdout",
     "output_type": "stream",
     "text": [
      "\n",
      "Rate limit approaching, waiting 5.32 seconds...\n"
     ]
    },
    {
     "name": "stderr",
     "output_type": "stream",
     "text": [
      "  7%|▋         | 10/136 [04:56<1:10:41, 33.66s/it]"
     ]
    },
    {
     "name": "stdout",
     "output_type": "stream",
     "text": [
      "\n",
      "Rate limit approaching, waiting 1.67 seconds...\n",
      "\n",
      "Rate limit hit for Black Student Fellowship, waiting 1.08 seconds...\n"
     ]
    },
    {
     "name": "stderr",
     "output_type": "stream",
     "text": [
      "  8%|▊         | 11/136 [05:37<1:14:49, 35.92s/it]"
     ]
    },
    {
     "name": "stdout",
     "output_type": "stream",
     "text": [
      "\n",
      "Rate limit approaching, waiting 4.30 seconds...\n",
      "\n",
      "Rate limit approaching, waiting 0.96 seconds...\n"
     ]
    },
    {
     "name": "stderr",
     "output_type": "stream",
     "text": [
      "  9%|▉         | 12/136 [06:05<1:09:27, 33.61s/it]"
     ]
    },
    {
     "name": "stdout",
     "output_type": "stream",
     "text": [
      "\n",
      "Rate limit hit for Blue Chips, waiting 1.08 seconds...\n",
      "\n",
      "Rate limit approaching, waiting 4.05 seconds...\n"
     ]
    },
    {
     "name": "stderr",
     "output_type": "stream",
     "text": [
      " 10%|▉         | 13/136 [06:44<1:12:29, 35.36s/it]"
     ]
    },
    {
     "name": "stdout",
     "output_type": "stream",
     "text": [
      "\n",
      "Rate limit approaching, waiting 7.73 seconds...\n"
     ]
    },
    {
     "name": "stderr",
     "output_type": "stream",
     "text": [
      " 10%|█         | 14/136 [07:13<1:07:40, 33.28s/it]"
     ]
    },
    {
     "name": "stdout",
     "output_type": "stream",
     "text": [
      "\n",
      "Rate limit approaching, waiting 2.26 seconds...\n",
      "\n",
      "Rate limit hit for Business Organization for Latino Development, waiting 1.03 seconds...\n",
      "\n",
      "Rate limit approaching, waiting 1.02 seconds...\n"
     ]
    },
    {
     "name": "stderr",
     "output_type": "stream",
     "text": [
      " 11%|█         | 15/136 [07:53<1:11:28, 35.44s/it]"
     ]
    },
    {
     "name": "stdout",
     "output_type": "stream",
     "text": [
      "\n",
      "Rate limit approaching, waiting 3.95 seconds...\n",
      "\n",
      "Rate limit hit for Catholic Students Association, waiting 1.01 seconds...\n"
     ]
    },
    {
     "name": "stderr",
     "output_type": "stream",
     "text": [
      " 12%|█▏        | 16/136 [08:31<1:12:25, 36.22s/it]"
     ]
    },
    {
     "name": "stdout",
     "output_type": "stream",
     "text": [
      "\n",
      "Rate limit approaching, waiting 8.44 seconds...\n"
     ]
    },
    {
     "name": "stderr",
     "output_type": "stream",
     "text": [
      " 12%|█▎        | 17/136 [08:59<1:06:57, 33.76s/it]"
     ]
    },
    {
     "name": "stdout",
     "output_type": "stream",
     "text": [
      "\n",
      "Rate limit approaching, waiting 2.47 seconds...\n",
      "\n",
      "Rate limit approaching, waiting 0.48 seconds...\n",
      "\n",
      "Rate limit hit for Cheerleading, waiting 1.02 seconds...\n"
     ]
    },
    {
     "name": "stderr",
     "output_type": "stream",
     "text": [
      " 13%|█▎        | 18/136 [09:38<1:09:33, 35.37s/it]"
     ]
    },
    {
     "name": "stdout",
     "output_type": "stream",
     "text": [
      "\n",
      "Rate limit approaching, waiting 0.01 seconds...\n"
     ]
    },
    {
     "name": "stderr",
     "output_type": "stream",
     "text": [
      " 14%|█▍        | 19/136 [10:12<1:08:02, 34.90s/it]"
     ]
    },
    {
     "name": "stdout",
     "output_type": "stream",
     "text": [
      "\n",
      "Rate limit approaching, waiting 3.83 seconds...\n",
      "\n",
      "Rate limit hit for Chicago Italian Appreciation Organization, waiting 1.10 seconds...\n"
     ]
    },
    {
     "name": "stderr",
     "output_type": "stream",
     "text": [
      " 15%|█▍        | 20/136 [10:50<1:09:15, 35.83s/it]"
     ]
    },
    {
     "name": "stdout",
     "output_type": "stream",
     "text": [
      "\n",
      "Rate limit approaching, waiting 3.28 seconds...\n",
      "\n",
      "Rate limit approaching, waiting 0.92 seconds...\n"
     ]
    },
    {
     "name": "stderr",
     "output_type": "stream",
     "text": [
      " 15%|█▌        | 21/136 [11:18<1:04:11, 33.49s/it]"
     ]
    },
    {
     "name": "stdout",
     "output_type": "stream",
     "text": [
      "\n",
      "Rate limit hit for Chicago Raas Team, waiting 1.10 seconds...\n",
      "\n",
      "Rate limit approaching, waiting 5.06 seconds...\n"
     ]
    },
    {
     "name": "stderr",
     "output_type": "stream",
     "text": [
      " 16%|█▌        | 22/136 [12:00<1:08:04, 35.83s/it]"
     ]
    },
    {
     "name": "stdout",
     "output_type": "stream",
     "text": [
      "\n",
      "Rate limit approaching, waiting 1.18 seconds...\n"
     ]
    },
    {
     "name": "stderr",
     "output_type": "stream",
     "text": [
      " 17%|█▋        | 23/136 [12:28<1:03:33, 33.75s/it]"
     ]
    },
    {
     "name": "stdout",
     "output_type": "stream",
     "text": [
      "\n",
      "Rate limit approaching, waiting 1.45 seconds...\n",
      "\n",
      "Rate limit hit for Chinese Student Christian Fellowship, waiting 1.01 seconds...\n",
      "\n",
      "Rate limit approaching, waiting 1.55 seconds...\n"
     ]
    },
    {
     "name": "stderr",
     "output_type": "stream",
     "text": [
      " 18%|█▊        | 24/136 [13:05<1:04:16, 34.43s/it]"
     ]
    },
    {
     "name": "stdout",
     "output_type": "stream",
     "text": [
      "\n",
      "Rate limit approaching, waiting 3.55 seconds...\n"
     ]
    },
    {
     "name": "stderr",
     "output_type": "stream",
     "text": [
      " 18%|█▊        | 25/136 [13:32<59:41, 32.27s/it]  "
     ]
    },
    {
     "name": "stdout",
     "output_type": "stream",
     "text": [
      "\n",
      "Rate limit hit for College Council, waiting 1.08 seconds...\n",
      "\n",
      "Rate limit approaching, waiting 4.52 seconds...\n",
      "\n",
      "Rate limit approaching, waiting 4.54 seconds...\n"
     ]
    },
    {
     "name": "stderr",
     "output_type": "stream",
     "text": [
      " 19%|█▉        | 26/136 [14:09<1:01:55, 33.77s/it]"
     ]
    },
    {
     "name": "stdout",
     "output_type": "stream",
     "text": [
      "\n",
      "Rate limit approaching, waiting 1.92 seconds...\n"
     ]
    },
    {
     "name": "stderr",
     "output_type": "stream",
     "text": [
      " 20%|█▉        | 27/136 [14:40<59:41, 32.86s/it]  "
     ]
    },
    {
     "name": "stdout",
     "output_type": "stream",
     "text": [
      "\n",
      "Rate limit hit for Community Health Initiative, waiting 1.02 seconds...\n",
      "\n",
      "Rate limit approaching, waiting 0.74 seconds...\n"
     ]
    },
    {
     "name": "stderr",
     "output_type": "stream",
     "text": [
      " 21%|██        | 28/136 [15:18<1:01:50, 34.36s/it]"
     ]
    },
    {
     "name": "stdout",
     "output_type": "stream",
     "text": [
      "\n",
      "Rate limit approaching, waiting 3.05 seconds...\n",
      "\n",
      "Rate limit approaching, waiting 2.14 seconds...\n",
      "\n",
      "Rate limit hit for Critical Understanding of Liturgies and Traditions, waiting 1.09 seconds...\n"
     ]
    },
    {
     "name": "stderr",
     "output_type": "stream",
     "text": [
      " 21%|██▏       | 29/136 [15:53<1:01:44, 34.62s/it]"
     ]
    },
    {
     "name": "stdout",
     "output_type": "stream",
     "text": [
      "\n",
      "Rate limit approaching, waiting 0.17 seconds...\n"
     ]
    },
    {
     "name": "stderr",
     "output_type": "stream",
     "text": [
      " 22%|██▏       | 30/136 [16:24<59:19, 33.58s/it]  "
     ]
    },
    {
     "name": "stdout",
     "output_type": "stream",
     "text": [
      "\n",
      "Rate limit approaching, waiting 7.18 seconds...\n",
      "\n",
      "Rate limit hit for None, waiting 1.07 seconds...\n",
      "\n",
      "Rate limit approaching, waiting 4.90 seconds...\n"
     ]
    },
    {
     "name": "stderr",
     "output_type": "stream",
     "text": [
      " 23%|██▎       | 31/136 [17:01<1:00:42, 34.69s/it]"
     ]
    },
    {
     "name": "stdout",
     "output_type": "stream",
     "text": [
      "\n",
      "Rate limit approaching, waiting 7.88 seconds...\n"
     ]
    },
    {
     "name": "stderr",
     "output_type": "stream",
     "text": [
      " 24%|██▎       | 32/136 [17:29<56:36, 32.66s/it]  "
     ]
    },
    {
     "name": "stdout",
     "output_type": "stream",
     "text": [
      "\n",
      "Rate limit hit for Documentary Films, waiting 1.08 seconds...\n",
      "\n",
      "Rate limit approaching, waiting 1.42 seconds...\n"
     ]
    },
    {
     "name": "stderr",
     "output_type": "stream",
     "text": [
      " 24%|██▍       | 33/136 [18:08<59:05, 34.42s/it]"
     ]
    },
    {
     "name": "stdout",
     "output_type": "stream",
     "text": [
      "\n",
      "Rate limit approaching, waiting 3.96 seconds...\n",
      "\n",
      "Rate limit approaching, waiting 2.17 seconds...\n",
      "\n",
      "Rate limit hit for Edmund Burke Society, waiting 1.10 seconds...\n"
     ]
    },
    {
     "name": "stderr",
     "output_type": "stream",
     "text": [
      " 25%|██▌       | 34/136 [18:44<59:24, 34.94s/it]"
     ]
    },
    {
     "name": "stdout",
     "output_type": "stream",
     "text": [
      "\n",
      "Rate limit approaching, waiting 5.16 seconds...\n"
     ]
    },
    {
     "name": "stderr",
     "output_type": "stream",
     "text": [
      " 26%|██▌       | 35/136 [19:18<58:31, 34.77s/it]"
     ]
    },
    {
     "name": "stdout",
     "output_type": "stream",
     "text": [
      "\n",
      "Rate limit approaching, waiting 2.25 seconds...\n",
      "\n",
      "Rate limit hit for Environmental Law Society, waiting 1.00 seconds...\n",
      "\n",
      "Rate limit approaching, waiting 0.41 seconds...\n"
     ]
    },
    {
     "name": "stderr",
     "output_type": "stream",
     "text": [
      " 26%|██▋       | 36/136 [19:58<1:00:22, 36.22s/it]"
     ]
    },
    {
     "name": "stdout",
     "output_type": "stream",
     "text": [
      "\n",
      "Rate limit approaching, waiting 1.07 seconds...\n",
      "\n",
      "Rate limit hit for Euphony Journal, waiting 1.09 seconds...\n"
     ]
    },
    {
     "name": "stderr",
     "output_type": "stream",
     "text": [
      " 27%|██▋       | 37/136 [20:35<1:00:17, 36.54s/it]"
     ]
    },
    {
     "name": "stdout",
     "output_type": "stream",
     "text": [
      "\n",
      "Rate limit approaching, waiting 5.86 seconds...\n"
     ]
    },
    {
     "name": "stderr",
     "output_type": "stream",
     "text": [
      " 28%|██▊       | 38/136 [21:05<56:25, 34.55s/it]  "
     ]
    },
    {
     "name": "stdout",
     "output_type": "stream",
     "text": [
      "\n",
      "Rate limit approaching, waiting 5.90 seconds...\n",
      "\n",
      "Rate limit hit for Festival of the Arts, waiting 1.04 seconds...\n",
      "\n",
      "Rate limit approaching, waiting 0.16 seconds...\n"
     ]
    },
    {
     "name": "stderr",
     "output_type": "stream",
     "text": [
      " 29%|██▊       | 39/136 [21:46<59:04, 36.55s/it]"
     ]
    },
    {
     "name": "stdout",
     "output_type": "stream",
     "text": [
      "\n",
      "Rate limit approaching, waiting 3.54 seconds...\n"
     ]
    },
    {
     "name": "stderr",
     "output_type": "stream",
     "text": [
      " 29%|██▉       | 40/136 [22:14<54:24, 34.01s/it]"
     ]
    },
    {
     "name": "stdout",
     "output_type": "stream",
     "text": [
      "\n",
      "Rate limit approaching, waiting 0.80 seconds...\n",
      "\n",
      "Rate limit hit for Food Recovery Network, waiting 1.04 seconds...\n"
     ]
    },
    {
     "name": "stderr",
     "output_type": "stream",
     "text": [
      " 30%|███       | 41/136 [22:53<55:49, 35.26s/it]"
     ]
    },
    {
     "name": "stdout",
     "output_type": "stream",
     "text": [
      "\n",
      "Rate limit approaching, waiting 9.84 seconds...\n"
     ]
    },
    {
     "name": "stderr",
     "output_type": "stream",
     "text": [
      " 31%|███       | 42/136 [23:26<54:25, 34.74s/it]"
     ]
    },
    {
     "name": "stdout",
     "output_type": "stream",
     "text": [
      "\n",
      "Rate limit approaching, waiting 6.04 seconds...\n",
      "\n",
      "Rate limit hit for Gateway to the Great Outdoors, waiting 1.05 seconds...\n",
      "\n",
      "Rate limit approaching, waiting 0.81 seconds...\n"
     ]
    },
    {
     "name": "stderr",
     "output_type": "stream",
     "text": [
      " 32%|███▏      | 43/136 [24:05<56:00, 36.13s/it]"
     ]
    },
    {
     "name": "stdout",
     "output_type": "stream",
     "text": [
      "\n",
      "Rate limit approaching, waiting 4.14 seconds...\n"
     ]
    },
    {
     "name": "stderr",
     "output_type": "stream",
     "text": [
      " 32%|███▏      | 44/136 [24:32<51:10, 33.38s/it]"
     ]
    },
    {
     "name": "stdout",
     "output_type": "stream",
     "text": [
      "\n",
      "Rate limit approaching, waiting 2.84 seconds...\n",
      "\n",
      "Rate limit hit for Graduate Christian Fellowship, waiting 1.05 seconds...\n"
     ]
    },
    {
     "name": "stderr",
     "output_type": "stream",
     "text": [
      " 33%|███▎      | 45/136 [25:09<52:12, 34.42s/it]"
     ]
    },
    {
     "name": "stdout",
     "output_type": "stream",
     "text": [
      "\n",
      "Rate limit approaching, waiting 3.14 seconds...\n",
      "\n",
      "Rate limit approaching, waiting 0.86 seconds...\n"
     ]
    },
    {
     "name": "stderr",
     "output_type": "stream",
     "text": [
      " 34%|███▍      | 46/136 [25:38<49:10, 32.78s/it]"
     ]
    },
    {
     "name": "stdout",
     "output_type": "stream",
     "text": [
      "\n",
      "Rate limit hit for Health Professions Recruitment and Exposure Program, waiting 1.01 seconds...\n",
      "\n",
      "Rate limit approaching, waiting 2.61 seconds...\n"
     ]
    },
    {
     "name": "stderr",
     "output_type": "stream",
     "text": [
      " 35%|███▍      | 47/136 [26:20<52:40, 35.51s/it]"
     ]
    },
    {
     "name": "stdout",
     "output_type": "stream",
     "text": [
      "\n",
      "Rate limit approaching, waiting 6.14 seconds...\n"
     ]
    },
    {
     "name": "stderr",
     "output_type": "stream",
     "text": [
      " 35%|███▌      | 48/136 [26:51<49:59, 34.08s/it]"
     ]
    },
    {
     "name": "stdout",
     "output_type": "stream",
     "text": [
      "\n",
      "Rate limit hit for Hong Kong Student Association, waiting 1.09 seconds...\n",
      "\n",
      "Rate limit approaching, waiting 4.90 seconds...\n",
      "\n",
      "Rate limit approaching, waiting 1.80 seconds...\n"
     ]
    },
    {
     "name": "stderr",
     "output_type": "stream",
     "text": [
      " 36%|███▌      | 49/136 [27:30<51:35, 35.58s/it]"
     ]
    },
    {
     "name": "stdout",
     "output_type": "stream",
     "text": [
      "\n",
      "Rate limit approaching, waiting 4.85 seconds...\n"
     ]
    },
    {
     "name": "stderr",
     "output_type": "stream",
     "text": [
      " 37%|███▋      | 50/136 [27:57<47:32, 33.17s/it]"
     ]
    },
    {
     "name": "stdout",
     "output_type": "stream",
     "text": [
      "\n",
      "Rate limit hit for Indonesian Student Association at The University of Chicago, waiting 1.00 seconds...\n",
      "\n",
      "Rate limit approaching, waiting 9.33 seconds...\n"
     ]
    },
    {
     "name": "stderr",
     "output_type": "stream",
     "text": [
      " 38%|███▊      | 51/136 [28:37<49:44, 35.12s/it]"
     ]
    },
    {
     "name": "stdout",
     "output_type": "stream",
     "text": [
      "\n",
      "Rate limit approaching, waiting 9.35 seconds...\n"
     ]
    },
    {
     "name": "stderr",
     "output_type": "stream",
     "text": [
      " 38%|███▊      | 52/136 [29:15<50:28, 36.06s/it]"
     ]
    },
    {
     "name": "stdout",
     "output_type": "stream",
     "text": [
      "\n",
      "Rate limit approaching, waiting 0.36 seconds...\n"
     ]
    },
    {
     "name": "stderr",
     "output_type": "stream",
     "text": [
      " 39%|███▉      | 53/136 [29:43<46:32, 33.64s/it]"
     ]
    },
    {
     "name": "stdout",
     "output_type": "stream",
     "text": [
      "\n",
      "Rate limit approaching, waiting 6.64 seconds...\n",
      "\n",
      "Rate limit hit for Judo Club, waiting 1.00 seconds...\n"
     ]
    },
    {
     "name": "stderr",
     "output_type": "stream",
     "text": [
      " 40%|███▉      | 54/136 [30:22<47:57, 35.10s/it]"
     ]
    },
    {
     "name": "stdout",
     "output_type": "stream",
     "text": [
      "\n",
      "Rate limit approaching, waiting 5.46 seconds...\n",
      "\n",
      "Rate limit approaching, waiting 4.17 seconds...\n"
     ]
    },
    {
     "name": "stderr",
     "output_type": "stream",
     "text": [
      " 40%|████      | 55/136 [30:51<45:04, 33.39s/it]"
     ]
    },
    {
     "name": "stdout",
     "output_type": "stream",
     "text": [
      "\n",
      "Rate limit approaching, waiting 3.27 seconds...\n",
      "\n",
      "Rate limit hit for Kojo Daiko, waiting 1.05 seconds...\n"
     ]
    },
    {
     "name": "stderr",
     "output_type": "stream",
     "text": [
      " 41%|████      | 56/136 [31:28<45:44, 34.31s/it]"
     ]
    },
    {
     "name": "stdout",
     "output_type": "stream",
     "text": [
      "\n",
      "Rate limit approaching, waiting 10.33 seconds...\n"
     ]
    },
    {
     "name": "stderr",
     "output_type": "stream",
     "text": [
      " 43%|████▎     | 58/136 [33:23<54:13, 41.71s/it]  "
     ]
    },
    {
     "name": "stdout",
     "output_type": "stream",
     "text": [
      "\n",
      "Rate limit approaching, waiting 10.29 seconds...\n"
     ]
    },
    {
     "name": "stderr",
     "output_type": "stream",
     "text": [
      " 43%|████▎     | 59/136 [33:37<42:49, 33.38s/it]"
     ]
    },
    {
     "name": "stdout",
     "output_type": "stream",
     "text": [
      "\n",
      "Rate limit approaching, waiting 12.98 seconds...\n",
      "\n",
      "Rate limit approaching, waiting 0.48 seconds...\n"
     ]
    },
    {
     "name": "stderr",
     "output_type": "stream",
     "text": [
      " 44%|████▍     | 60/136 [34:13<43:21, 34.22s/it]"
     ]
    },
    {
     "name": "stdout",
     "output_type": "stream",
     "text": [
      "\n",
      "Rate limit approaching, waiting 6.48 seconds...\n",
      "\n",
      "Rate limit hit for Major Activities Board, waiting 1.01 seconds...\n",
      "\n",
      "Rate limit approaching, waiting 1.64 seconds...\n"
     ]
    },
    {
     "name": "stderr",
     "output_type": "stream",
     "text": [
      " 45%|████▍     | 61/136 [34:43<41:19, 33.06s/it]"
     ]
    },
    {
     "name": "stdout",
     "output_type": "stream",
     "text": [
      "\n",
      "Rate limit approaching, waiting 0.56 seconds...\n"
     ]
    },
    {
     "name": "stderr",
     "output_type": "stream",
     "text": [
      " 46%|████▌     | 62/136 [35:11<38:41, 31.37s/it]"
     ]
    },
    {
     "name": "stdout",
     "output_type": "stream",
     "text": [
      "\n",
      "Rate limit approaching, waiting 1.89 seconds...\n",
      "\n",
      "Rate limit hit for Maroons for Israel, waiting 1.08 seconds...\n"
     ]
    },
    {
     "name": "stderr",
     "output_type": "stream",
     "text": [
      " 46%|████▋     | 63/136 [35:50<40:56, 33.64s/it]"
     ]
    },
    {
     "name": "stdout",
     "output_type": "stream",
     "text": [
      "\n",
      "Rate limit approaching, waiting 4.79 seconds...\n",
      "\n",
      "Rate limit approaching, waiting 3.40 seconds...\n"
     ]
    },
    {
     "name": "stderr",
     "output_type": "stream",
     "text": [
      " 47%|████▋     | 64/136 [36:18<38:38, 32.19s/it]"
     ]
    },
    {
     "name": "stdout",
     "output_type": "stream",
     "text": [
      "\n",
      "Rate limit approaching, waiting 1.35 seconds...\n"
     ]
    },
    {
     "name": "stderr",
     "output_type": "stream",
     "text": [
      " 48%|████▊     | 65/136 [36:50<37:47, 31.93s/it]"
     ]
    },
    {
     "name": "stdout",
     "output_type": "stream",
     "text": [
      "\n",
      "Rate limit hit for Memoryhouse, waiting 1.06 seconds...\n",
      "\n",
      "Rate limit approaching, waiting 4.25 seconds...\n"
     ]
    },
    {
     "name": "stderr",
     "output_type": "stream",
     "text": [
      " 49%|████▊     | 66/136 [37:27<39:06, 33.52s/it]"
     ]
    },
    {
     "name": "stdout",
     "output_type": "stream",
     "text": [
      "\n",
      "Rate limit approaching, waiting 8.08 seconds...\n"
     ]
    },
    {
     "name": "stderr",
     "output_type": "stream",
     "text": [
      " 49%|████▉     | 67/136 [37:54<36:18, 31.57s/it]"
     ]
    },
    {
     "name": "stdout",
     "output_type": "stream",
     "text": [
      "\n",
      "Rate limit approaching, waiting 3.20 seconds...\n",
      "\n",
      "Rate limit hit for Minorities in Public Policy Studies, waiting 1.10 seconds...\n",
      "\n",
      "Rate limit approaching, waiting 3.71 seconds...\n"
     ]
    }
   ],
   "source": [
    "results = process_rsos('rso_data_detailed.json', 'categorized_rsos.json')"
   ]
  },
  {
   "cell_type": "code",
   "execution_count": null,
   "metadata": {},
   "outputs": [],
   "source": []
  }
 ],
 "metadata": {
  "kernelspec": {
   "display_name": "venv1",
   "language": "python",
   "name": "python3"
  },
  "language_info": {
   "codemirror_mode": {
    "name": "ipython",
    "version": 3
   },
   "file_extension": ".py",
   "mimetype": "text/x-python",
   "name": "python",
   "nbconvert_exporter": "python",
   "pygments_lexer": "ipython3",
   "version": "3.11.6"
  }
 },
 "nbformat": 4,
 "nbformat_minor": 2
}
