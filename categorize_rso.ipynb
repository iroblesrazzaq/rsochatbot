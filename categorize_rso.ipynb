{
 "cells": [
  {
   "cell_type": "markdown",
   "metadata": {},
   "source": [
    "Notebook to add better categories to RSO data"
   ]
  },
  {
   "cell_type": "code",
   "execution_count": 3,
   "metadata": {},
   "outputs": [],
   "source": [
    "import json\n",
    "import asyncio\n",
    "from groq import Groq\n",
    "import os\n",
    "from typing import Dict, List, Optional\n",
    "import time\n",
    "from tqdm import tqdm\n",
    "from dotenv import load_dotenv\n"
   ]
  },
  {
   "cell_type": "code",
   "execution_count": 4,
   "metadata": {},
   "outputs": [],
   "source": [
    "load_dotenv()  # This loads the variables from .env\n",
    "\n",
    "client = Groq(\n",
    "    api_key=os.environ[\"GROQ_API_KEY\"],\n",
    ")"
   ]
  },
  {
   "cell_type": "code",
   "execution_count": 5,
   "metadata": {},
   "outputs": [],
   "source": [
    "VALID_CATEGORIES = [\n",
    "    \"Biology\", \"Chemistry\", \"Physics\", \"Mathematics\", \"Computer Science\", \n",
    "    \"Data Science\", \"Economics\", \"Psychology\", \"Sociology\", \"Political Science\",\n",
    "    \"History\", \"Philosophy\", \"Literature\", \"Languages\", \"Law\", \"Medicine\",\n",
    "    \"Nursing\", \"Public Health\", \"Engineering\", \"Environmental Science\",\n",
    "    \"Finance\", \"Investment\", \"Quantitative Trading\", \"Private Equity\",\n",
    "    \"Venture Capital\", \"Consulting\", \"Marketing\", \"Entrepreneurship\",\n",
    "    \"Real Estate\", \"Technology\", \"Software Development\", \"Product Management\",\n",
    "    \"Healthcare\", \"Legal\", \"Research\", \"Journalism\", \"Media Production\",\n",
    "    \"Visual Arts\", \"Painting\", \"Photography\", \"Digital Art\", \"Music\",\n",
    "    \"Band\", \"Choir\", \"A Cappella\", \"Theater\", \"Dance\", \"Film\",\n",
    "    \"Creative Writing\", \"Design\", \"Cultural\", \"International\", \"Religious\",\n",
    "    \"LGBTQ+\", \"Gender & Sexuality\", \"Social Justice\", \"Political\", \"Activism\",\n",
    "    \"Community Service/volunteering\", \"Mentorship\", \"Environmental\",\n",
    "    \"Team Sports\", \"Individual Sports\", \"E-sports\", \"Gaming\", \"Chess\",\n",
    "    \"Debate\", \"Model UN\", \"Food & Cooking\", \"Travel\", \"Outdoor Activities\",\n",
    "    \"Student Government\", \"Publications\", \"Mental Health\", \"Wellness\",\n",
    "    \"Career Development\", \"Academic Support\", \"Leadership\", \"Greek Life\"\n",
    "]"
   ]
  },
  {
   "cell_type": "code",
   "execution_count": 6,
   "metadata": {},
   "outputs": [],
   "source": [
    "FEW_SHOT_EXAMPLES = [\n",
    "    {\n",
    "        \"name\": \"Investment Banking Group\",\n",
    "        \"description\": \"A professional organization dedicated to educating members about investment banking, private equity, and financial markets. We host networking events, technical workshops, and mock interviews to prepare students for careers in finance.\",\n",
    "        \"ideal_categories\": [\"Finance\", \"Investment\", \"Career Development\"],\n",
    "        \"explanation\": \"This RSO focuses on finance education and career preparation, warranting multiple related financial categories.\"\n",
    "    },\n",
    "    {\n",
    "        \"name\": \"Data Science for Social Good\",\n",
    "        \"description\": \"We apply data science and machine learning techniques to tackle social issues in healthcare, education, and environmental sustainability. Members work on real-world projects while learning technical skills.\",\n",
    "        \"ideal_categories\": [\"Data Science\", \"Computer Science\", \"Community Service/volunteering\"],\n",
    "        \"explanation\": \"Combines technical data science work with social impact, deserving both technical and service categories.\"\n",
    "    },\n",
    "    {\n",
    "        \"name\": \"Mental Health Alliance\",\n",
    "        \"description\": \"A student organization focused on promoting mental health awareness, reducing stigma, and connecting students with resources. We organize wellness workshops, peer support groups, and educational events.\",\n",
    "        \"ideal_categories\": [\"Mental Health\", \"Wellness\", \"Student Life\"],\n",
    "        \"explanation\": \"Focuses on mental health and wellness within student life context.\"\n",
    "    }\n",
    "]"
   ]
  }
 ],
 "metadata": {
  "kernelspec": {
   "display_name": "venv1",
   "language": "python",
   "name": "python3"
  },
  "language_info": {
   "codemirror_mode": {
    "name": "ipython",
    "version": 3
   },
   "file_extension": ".py",
   "mimetype": "text/x-python",
   "name": "python",
   "nbconvert_exporter": "python",
   "pygments_lexer": "ipython3",
   "version": "3.11.6"
  }
 },
 "nbformat": 4,
 "nbformat_minor": 2
}
