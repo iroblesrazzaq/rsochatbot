{
 "cells": [
  {
   "cell_type": "code",
   "execution_count": 1,
   "metadata": {},
   "outputs": [],
   "source": [
    "import json\n",
    "\n",
    "def remove_fields(json_data, fields_to_remove):\n",
    "    if isinstance(json_data, dict):\n",
    "        return {\n",
    "            key: remove_fields(value, fields_to_remove)\n",
    "            for key, value in json_data.items()\n",
    "            if key not in fields_to_remove\n",
    "        }\n",
    "    elif isinstance(json_data, list):\n",
    "        return [remove_fields(item, fields_to_remove) for item in json_data]\n",
    "    else:\n",
    "        return json_data"
   ]
  },
  {
   "cell_type": "code",
   "execution_count": 2,
   "metadata": {},
   "outputs": [],
   "source": [
    "\n",
    "\n",
    "# Example usage\n",
    "with open('categorized_rsos.json', 'r') as f:\n",
    "    data = json.load(f)\n",
    "\n",
    "# Specify fields to remove\n",
    "fields_to_remove = ['categorization_explanation']\n",
    "\n",
    "# Remove the fields\n",
    "cleaned_data = remove_fields(data, fields_to_remove)\n",
    "\n",
    "# Save the result\n",
    "with open('output.json', 'w') as f:\n",
    "    json.dump(cleaned_data, f, indent=2)"
   ]
  }
 ],
 "metadata": {
  "kernelspec": {
   "display_name": "venv1",
   "language": "python",
   "name": "python3"
  },
  "language_info": {
   "codemirror_mode": {
    "name": "ipython",
    "version": 3
   },
   "file_extension": ".py",
   "mimetype": "text/x-python",
   "name": "python",
   "nbconvert_exporter": "python",
   "pygments_lexer": "ipython3",
   "version": "3.11.6"
  }
 },
 "nbformat": 4,
 "nbformat_minor": 2
}
