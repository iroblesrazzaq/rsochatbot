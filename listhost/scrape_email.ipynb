{
 "cells": [
  {
   "cell_type": "markdown",
   "metadata": {},
   "source": [
    "Notebook to scrape emails from given gmail"
   ]
  },
  {
   "cell_type": "code",
   "execution_count": 32,
   "metadata": {},
   "outputs": [],
   "source": [
    "from google.oauth2.credentials import Credentials\n",
    "from google_auth_oauthlib.flow import InstalledAppFlow\n",
    "from google.auth.transport.requests import Request\n",
    "from googleapiclient.discovery import build\n",
    "import base64\n",
    "import os.path\n",
    "import pickle\n",
    "\n",
    "SCOPES = ['https://www.googleapis.com/auth/gmail.readonly']"
   ]
  },
  {
   "cell_type": "code",
   "execution_count": 33,
   "metadata": {},
   "outputs": [],
   "source": [
    "def get_gmail_service():\n",
    "    creds = None\n",
    "    if os.path.exists('token.pickle'):\n",
    "        with open('token.pickle', 'rb') as token:\n",
    "            creds = pickle.load(token)\n",
    "    \n",
    "    if not creds or not creds.valid:\n",
    "        if creds and creds.expired and creds.refresh_token:\n",
    "            creds.refresh(Request())\n",
    "        else:\n",
    "            flow = InstalledAppFlow.from_client_secrets_file(\n",
    "                'credentials.json', SCOPES)\n",
    "            creds = flow.run_local_server(port=8080)\n",
    "        \n",
    "        with open('token.pickle', 'wb') as token:\n",
    "            pickle.dump(creds, token)\n",
    "\n",
    "    return build('gmail', 'v1', credentials=creds)"
   ]
  },
  {
   "cell_type": "code",
   "execution_count": 34,
   "metadata": {},
   "outputs": [],
   "source": [
    "def get_email_body(payload):\n",
    "    if 'parts' in payload:\n",
    "        for part in payload['parts']:\n",
    "            if part['mimeType'] == 'text/plain':\n",
    "                try:\n",
    "                    return base64.urlsafe_b64decode(part['body']['data']).decode()\n",
    "                except Exception as e:\n",
    "                    print(f\"Error decoding email body: {e}\")\n",
    "                    return None\n",
    "    elif payload.get('body', {}).get('data'):\n",
    "        try:\n",
    "            return base64.urlsafe_b64decode(payload['body']['data']).decode()\n",
    "        except Exception as e:\n",
    "            print(f\"Error decoding email body: {e}\")\n",
    "            return None\n",
    "    return None"
   ]
  },
  {
   "cell_type": "code",
   "execution_count": 35,
   "metadata": {},
   "outputs": [],
   "source": [
    "def fetch_all_emails(service):\n",
    "    try:\n",
    "        # Get all messages in inbox\n",
    "        results = service.users().messages().list(userId='me').execute()\n",
    "        messages = results.get('messages', [])\n",
    "        \n",
    "        if not messages:\n",
    "            print(\"No emails found.\")\n",
    "            return []\n",
    "        \n",
    "        email_list = []\n",
    "        print(f\"Found {len(messages)} emails. Processing...\")\n",
    "        \n",
    "        for message in messages:\n",
    "            msg = service.users().messages().get(userId='me', id=message['id']).execute()\n",
    "            \n",
    "            # Get subject from headers\n",
    "            subject = ''\n",
    "            sender = ''\n",
    "            for header in msg['payload']['headers']:\n",
    "                if header['name'] == 'Subject':\n",
    "                    subject = header['value']\n",
    "                elif header['name'] == 'From':\n",
    "                    sender = header['value']\n",
    "            \n",
    "            # Get body\n",
    "            body = get_email_body(msg['payload'])\n",
    "            \n",
    "            email_data = {\n",
    "                'subject': subject,\n",
    "                'from': sender,\n",
    "                'body': body\n",
    "            }\n",
    "            email_list.append(email_data)\n",
    "            \n",
    "            print(f\"\\nEmail:\")\n",
    "            print(f\"From: {sender}\")\n",
    "            print(f\"Subject: {subject}\")\n",
    "            print(f\"Body: {body[:200]}...\" if body else \"No plain text body found\")\n",
    "            print(\"-\" * 50)\n",
    "        \n",
    "        return email_list\n",
    "            \n",
    "    except Exception as e:\n",
    "        print(f\"An error occurred: {e}\")\n",
    "        return []"
   ]
  },
  {
   "cell_type": "code",
   "execution_count": 36,
   "metadata": {},
   "outputs": [
    {
     "name": "stdout",
     "output_type": "stream",
     "text": [
      "Found 2 emails. Processing...\n",
      "\n",
      "Email:\n",
      "From: urock-request@lists.uchicago.edu\n",
      "Subject: Welcome to list urock\n",
      "Body: Welcome to list urock@lists.uchicago.edu\n",
      "Your subscription email is rsochatbot@gmail.com\n",
      "\n",
      "\n",
      "Looking forward to the 2022/23 climbing club season! Email will be our primary\n",
      "form of communication thi...\n",
      "--------------------------------------------------\n",
      "\n",
      "Email:\n",
      "From: UChicago Mailing Lists System <sympa@lists.uchicago.edu>\n",
      "Subject: University of Chicago Mailing Lists / your environment\n",
      "Body: Someone, probably you, requested to allocate or renew your password for your\n",
      "list server account lists.uchicago.edu.\n",
      "You may ignore this request or click on the following URL in order to choose\n",
      "you...\n",
      "--------------------------------------------------\n",
      "\n",
      "Total emails processed: 2\n"
     ]
    }
   ],
   "source": [
    "service = get_gmail_service()\n",
    "emails = fetch_all_emails(service)\n",
    "print(f\"\\nTotal emails processed: {len(emails)}\")"
   ]
  }
 ],
 "metadata": {
  "kernelspec": {
   "display_name": "venv1",
   "language": "python",
   "name": "python3"
  },
  "language_info": {
   "codemirror_mode": {
    "name": "ipython",
    "version": 3
   },
   "file_extension": ".py",
   "mimetype": "text/x-python",
   "name": "python",
   "nbconvert_exporter": "python",
   "pygments_lexer": "ipython3",
   "version": "3.11.6"
  }
 },
 "nbformat": 4,
 "nbformat_minor": 2
}
