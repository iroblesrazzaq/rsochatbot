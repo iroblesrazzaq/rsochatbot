{
 "cells": [
  {
   "cell_type": "markdown",
   "metadata": {},
   "source": [
    "Notebook for listhost signup -- have to sign into listhost, then interact with page"
   ]
  },
  {
   "cell_type": "code",
   "execution_count": 18,
   "metadata": {},
   "outputs": [],
   "source": [
    "from selenium import webdriver\n",
    "from selenium.webdriver.common.by import By\n",
    "from selenium.webdriver.support.ui import WebDriverWait\n",
    "from selenium.webdriver.support import expected_conditions as EC\n",
    "from selenium.common.exceptions import TimeoutException\n",
    "import logging\n",
    "import time\n",
    "import json"
   ]
  },
  {
   "cell_type": "code",
   "execution_count": 20,
   "metadata": {},
   "outputs": [],
   "source": [
    "with open('../login.json', 'r') as file:\n",
    "    login = json.load(file)\n",
    "\n",
    "# Access the credentials\n",
    "email = login['email']\n",
    "password = login['password']"
   ]
  },
  {
   "cell_type": "code",
   "execution_count": 2,
   "metadata": {},
   "outputs": [],
   "source": [
    "logging.basicConfig(\n",
    "    level=logging.INFO,\n",
    "    format='%(asctime)s - %(levelname)s - %(message)s',\n",
    "    filename='listhost_login.log'\n",
    ")"
   ]
  },
  {
   "cell_type": "code",
   "execution_count": 16,
   "metadata": {},
   "outputs": [],
   "source": [
    "class ListhostLogin:\n",
    "    def __init__(self, email: str, password: str):\n",
    "        self.email = email\n",
    "        self.password = password\n",
    "        self.driver = webdriver.Chrome()\n",
    "        self.wait = WebDriverWait(self.driver, 10)\n",
    "        \n",
    "    def login(self) -> bool:\n",
    "        \"\"\"Handle the complete login process\"\"\"\n",
    "        try:\n",
    "            # 1. Navigate to the main page\n",
    "            logging.info(\"Navigating to main page...\")\n",
    "            self.driver.get(\"https://lists.uchicago.edu/web\")\n",
    "            time.sleep(2)  # Wait for page to fully load\n",
    "            \n",
    "            # 2. Click the initial login button\n",
    "            logging.info(\"Clicking initial login button...\")\n",
    "            login_button = self.wait.until(\n",
    "                EC.element_to_be_clickable((By.NAME, \"action_login\"))\n",
    "            )\n",
    "            login_button.click()\n",
    "            time.sleep(1.5)  # Wait for transition\n",
    "            \n",
    "            # Wait for page transition (checking for email field presence)\n",
    "            email_field = self.wait.until(\n",
    "                EC.presence_of_element_located((By.ID, \"email_login\"))\n",
    "            )\n",
    "            \n",
    "            # 3. Fill in credentials\n",
    "            logging.info(\"Filling credentials...\")\n",
    "            email_field.send_keys(self.email)\n",
    "            time.sleep(0.5)  # Small wait between fields\n",
    "            \n",
    "            password_field = self.driver.find_element(By.ID, \"passwd\")\n",
    "            password_field.send_keys(self.password)\n",
    "            time.sleep(0.5)  # Wait before clicking submit\n",
    "            \n",
    "            # 4. Click the login submit button\n",
    "            logging.info(\"Submitting login form...\")\n",
    "            submit_button = self.driver.find_element(\n",
    "                By.CSS_SELECTOR, \n",
    "                \"button[class='heavyWork'][type='submit'][name='action_login']\"\n",
    "            )\n",
    "            submit_button.click()\n",
    "            time.sleep(2)  # Wait for login processing\n",
    "            \n",
    "            # 5. Wait for successful login (checking for email element)\n",
    "            self.wait.until(\n",
    "                EC.presence_of_element_located(\n",
    "                    (By.CSS_SELECTOR, f'li[aria-label*=\"{self.email}\"]')\n",
    "                )\n",
    "            )\n",
    "            \n",
    "            logging.info(\"Successfully logged in!\")\n",
    "            time.sleep(1)  # Final wait to ensure everything is loaded\n",
    "            return True\n",
    "            \n",
    "        except TimeoutException as e:\n",
    "            logging.error(f\"Timeout while waiting for element: {str(e)}\")\n",
    "            return False\n",
    "        except Exception as e:\n",
    "            logging.error(f\"Error during login process: {str(e)}\")\n",
    "            return False\n",
    "    \n",
    "    def is_logged_in(self) -> bool:\n",
    "        \"\"\"Check if we're currently logged in\"\"\"\n",
    "        try:\n",
    "            email_element = self.driver.find_element(\n",
    "                By.CSS_SELECTOR, \n",
    "                f'li[aria-label*=\"{self.email}\"]'\n",
    "            )\n",
    "            return email_element is not None\n",
    "        except:\n",
    "            return False\n",
    "    \n",
    "    def close(self):\n",
    "        \"\"\"Close the browser\"\"\"\n",
    "        self.driver.quit()\n"
   ]
  },
  {
   "cell_type": "code",
   "execution_count": 12,
   "metadata": {},
   "outputs": [],
   "source": [
    "\n",
    "# Usage example\n",
    "def test_login(email: str, password: str):\n",
    "    login_handler = ListhostLogin(email, password)\n",
    "    try:\n",
    "        success = login_handler.login()\n",
    "        if success:\n",
    "            print(\"Login successful!\")\n",
    "            # Here we could continue with list subscription logic\n",
    "        else:\n",
    "            print(\"Login failed!\")\n",
    "    finally:\n",
    "        login_handler.close()"
   ]
  },
  {
   "cell_type": "code",
   "execution_count": 21,
   "metadata": {},
   "outputs": [
    {
     "name": "stdout",
     "output_type": "stream",
     "text": [
      "Login successful!\n"
     ]
    }
   ],
   "source": [
    "test_login(email, password)"
   ]
  },
  {
   "cell_type": "code",
   "execution_count": null,
   "metadata": {},
   "outputs": [],
   "source": []
  }
 ],
 "metadata": {
  "kernelspec": {
   "display_name": "venv1",
   "language": "python",
   "name": "python3"
  },
  "language_info": {
   "codemirror_mode": {
    "name": "ipython",
    "version": 3
   },
   "file_extension": ".py",
   "mimetype": "text/x-python",
   "name": "python",
   "nbconvert_exporter": "python",
   "pygments_lexer": "ipython3",
   "version": "3.11.6"
  }
 },
 "nbformat": 4,
 "nbformat_minor": 2
}
